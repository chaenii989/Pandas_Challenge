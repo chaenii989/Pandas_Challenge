{
 "cells": [
  {
   "cell_type": "markdown",
   "metadata": {},
   "source": [
    "### Note\n",
    "* Instructions have been included for each segment. You do not have to follow them exactly, but they are included to help you think through the steps."
   ]
  },
  {
   "cell_type": "code",
   "execution_count": 2,
   "metadata": {},
   "outputs": [],
   "source": [
    "# Dependencies and Setup\n",
    "import pandas as pd\n",
    "\n",
    "# File to Load (Remember to Change These)\n",
    "file_to_load = \"Resources/purchase_data.csv\"\n",
    "\n",
    "# Read Purchasing File and store into Pandas data frame\n",
    "purchase_data = pd.read_csv(file_to_load)"
   ]
  },
  {
   "cell_type": "markdown",
   "metadata": {},
   "source": [
    "## Player Count"
   ]
  },
  {
   "cell_type": "markdown",
   "metadata": {},
   "source": [
    "* Display the total number of players\n"
   ]
  },
  {
   "cell_type": "code",
   "execution_count": 3,
   "metadata": {},
   "outputs": [
    {
     "output_type": "execute_result",
     "data": {
      "text/plain": [
       "   Total Player\n",
       "0           576"
      ],
      "text/html": "<div>\n<style scoped>\n    .dataframe tbody tr th:only-of-type {\n        vertical-align: middle;\n    }\n\n    .dataframe tbody tr th {\n        vertical-align: top;\n    }\n\n    .dataframe thead th {\n        text-align: right;\n    }\n</style>\n<table border=\"1\" class=\"dataframe\">\n  <thead>\n    <tr style=\"text-align: right;\">\n      <th></th>\n      <th>Total Player</th>\n    </tr>\n  </thead>\n  <tbody>\n    <tr>\n      <th>0</th>\n      <td>576</td>\n    </tr>\n  </tbody>\n</table>\n</div>"
     },
     "metadata": {},
     "execution_count": 3
    }
   ],
   "source": [
    "player = len(purchase_data[\"SN\"].value_counts())\n",
    "player_df = pd.DataFrame({\"Total Player\":[player]})\n",
    "player_df"
   ]
  },
  {
   "cell_type": "markdown",
   "metadata": {},
   "source": [
    "## Purchasing Analysis (Total)"
   ]
  },
  {
   "cell_type": "markdown",
   "metadata": {},
   "source": [
    "* Run basic calculations to obtain number of unique items, average price, etc.\n",
    "\n",
    "\n",
    "* Create a summary data frame to hold the results\n",
    "\n",
    "\n",
    "* Optional: give the displayed data cleaner formatting\n",
    "\n",
    "\n",
    "* Display the summary data frame\n"
   ]
  },
  {
   "cell_type": "code",
   "execution_count": 4,
   "metadata": {
    "scrolled": true
   },
   "outputs": [
    {
     "output_type": "execute_result",
     "data": {
      "text/plain": [
       "   Unique Item Average Price  Number of Purchases Total Revenue\n",
       "0          179         $3.05                  780     $2,379.77"
      ],
      "text/html": "<div>\n<style scoped>\n    .dataframe tbody tr th:only-of-type {\n        vertical-align: middle;\n    }\n\n    .dataframe tbody tr th {\n        vertical-align: top;\n    }\n\n    .dataframe thead th {\n        text-align: right;\n    }\n</style>\n<table border=\"1\" class=\"dataframe\">\n  <thead>\n    <tr style=\"text-align: right;\">\n      <th></th>\n      <th>Unique Item</th>\n      <th>Average Price</th>\n      <th>Number of Purchases</th>\n      <th>Total Revenue</th>\n    </tr>\n  </thead>\n  <tbody>\n    <tr>\n      <th>0</th>\n      <td>179</td>\n      <td>$3.05</td>\n      <td>780</td>\n      <td>$2,379.77</td>\n    </tr>\n  </tbody>\n</table>\n</div>"
     },
     "metadata": {},
     "execution_count": 4
    }
   ],
   "source": [
    "unique_item = len(purchase_data[\"Item ID\"].unique())\n",
    "average_price = purchase_data[\"Price\"].mean()\n",
    "number_of_purchases = purchase_data[\"Price\"].count()\n",
    "total_revenue = purchase_data[\"Price\"].sum()\n",
    "summary_df = pd.DataFrame(\n",
    "{\n",
    "    \"Unique Item\" : [unique_item],\n",
    "    \"Average Price\" : [f\"${average_price:.2f}\"],\n",
    "    \"Number of Purchases\" : [number_of_purchases],\n",
    "    \"Total Revenue\" : [f\"${total_revenue:,}\"]     \n",
    "})\n",
    "summary_df"
   ]
  },
  {
   "cell_type": "markdown",
   "metadata": {},
   "source": [
    "## Gender Demographics"
   ]
  },
  {
   "cell_type": "markdown",
   "metadata": {},
   "source": [
    "* Percentage and Count of Male Players\n",
    "\n",
    "\n",
    "* Percentage and Count of Female Players\n",
    "\n",
    "\n",
    "* Percentage and Count of Other / Non-Disclosed\n",
    "\n",
    "\n"
   ]
  },
  {
   "cell_type": "code",
   "execution_count": 6,
   "metadata": {},
   "outputs": [
    {
     "output_type": "execute_result",
     "data": {
      "text/plain": [
       "<pandas.io.formats.style.Styler at 0x7fa248fe6730>"
      ],
      "text/html": "<style  type=\"text/css\" >\n</style><table id=\"T_28313d1c_9c00_11eb_9b5a_8c859005dc97\" ><thead>    <tr>        <th class=\"blank level0\" ></th>        <th class=\"col_heading level0 col0\" >Total Count</th>        <th class=\"col_heading level0 col1\" >Percentage of Players</th>    </tr>    <tr>        <th class=\"index_name level0\" >Gender</th>        <th class=\"blank\" ></th>        <th class=\"blank\" ></th>    </tr></thead><tbody>\n                <tr>\n                        <th id=\"T_28313d1c_9c00_11eb_9b5a_8c859005dc97level0_row0\" class=\"row_heading level0 row0\" >Male</th>\n                        <td id=\"T_28313d1c_9c00_11eb_9b5a_8c859005dc97row0_col0\" class=\"data row0 col0\" >484</td>\n                        <td id=\"T_28313d1c_9c00_11eb_9b5a_8c859005dc97row0_col1\" class=\"data row0 col1\" >84.03%</td>\n            </tr>\n            <tr>\n                        <th id=\"T_28313d1c_9c00_11eb_9b5a_8c859005dc97level0_row1\" class=\"row_heading level0 row1\" >Female</th>\n                        <td id=\"T_28313d1c_9c00_11eb_9b5a_8c859005dc97row1_col0\" class=\"data row1 col0\" >81</td>\n                        <td id=\"T_28313d1c_9c00_11eb_9b5a_8c859005dc97row1_col1\" class=\"data row1 col1\" >14.06%</td>\n            </tr>\n            <tr>\n                        <th id=\"T_28313d1c_9c00_11eb_9b5a_8c859005dc97level0_row2\" class=\"row_heading level0 row2\" >Other / Non-Disclosed</th>\n                        <td id=\"T_28313d1c_9c00_11eb_9b5a_8c859005dc97row2_col0\" class=\"data row2 col0\" >11</td>\n                        <td id=\"T_28313d1c_9c00_11eb_9b5a_8c859005dc97row2_col1\" class=\"data row2 col1\" >1.91%</td>\n            </tr>\n    </tbody></table>"
     },
     "metadata": {},
     "execution_count": 6
    }
   ],
   "source": [
    "gender_df = purchase_data.groupby(\"Gender\")\n",
    "\n",
    "#Get number of unique from gender_df\n",
    "gender_count = gender_df.nunique()[\"SN\"]\n",
    "gender_percentage = gender_count/player*100\n",
    "\n",
    "gender_demographic = pd.DataFrame(\n",
    "{\n",
    "    \"Total Count\" : gender_count,\n",
    "    \"Percentage of Players\" : gender_percentage,    \n",
    "})\n",
    "\n",
    "# Apply formatting by using a dict mapping\n",
    "format_mapping = {\"Percentage of Players\":\"{:,.2f}%\"}\n",
    "\n",
    "gender_demographic_sort = gender_demographic.sort_values(\"Total Count\",ascending=False)\n",
    "gender_demographic_sort.style.format(format_mapping)\n"
   ]
  },
  {
   "cell_type": "markdown",
   "metadata": {},
   "source": [
    "\n",
    "## Purchasing Analysis (Gender)"
   ]
  },
  {
   "cell_type": "markdown",
   "metadata": {},
   "source": [
    "* Run basic calculations to obtain purchase count, avg. purchase price, avg. purchase total per person etc. by gender\n",
    "\n",
    "\n",
    "\n",
    "\n",
    "* Create a summary data frame to hold the results\n",
    "\n",
    "\n",
    "* Optional: give the displayed data cleaner formatting\n",
    "\n",
    "\n",
    "* Display the summary data frame"
   ]
  },
  {
   "cell_type": "code",
   "execution_count": 9,
   "metadata": {},
   "outputs": [
    {
     "output_type": "execute_result",
     "data": {
      "text/plain": [
       "<pandas.io.formats.style.Styler at 0x7fa248fc27f0>"
      ],
      "text/html": "<style  type=\"text/css\" >\n</style><table id=\"T_a16c36aa_9c00_11eb_9b5a_8c859005dc97\" ><thead>    <tr>        <th class=\"blank level0\" ></th>        <th class=\"col_heading level0 col0\" >Purchase Count</th>        <th class=\"col_heading level0 col1\" >Average Purchase Price</th>        <th class=\"col_heading level0 col2\" >Total Purchase Value</th>        <th class=\"col_heading level0 col3\" >Avg Total Purchase per Person</th>    </tr>    <tr>        <th class=\"index_name level0\" >Gender</th>        <th class=\"blank\" ></th>        <th class=\"blank\" ></th>        <th class=\"blank\" ></th>        <th class=\"blank\" ></th>    </tr></thead><tbody>\n                <tr>\n                        <th id=\"T_a16c36aa_9c00_11eb_9b5a_8c859005dc97level0_row0\" class=\"row_heading level0 row0\" >Female</th>\n                        <td id=\"T_a16c36aa_9c00_11eb_9b5a_8c859005dc97row0_col0\" class=\"data row0 col0\" >113</td>\n                        <td id=\"T_a16c36aa_9c00_11eb_9b5a_8c859005dc97row0_col1\" class=\"data row0 col1\" >$3.20</td>\n                        <td id=\"T_a16c36aa_9c00_11eb_9b5a_8c859005dc97row0_col2\" class=\"data row0 col2\" >$361.94</td>\n                        <td id=\"T_a16c36aa_9c00_11eb_9b5a_8c859005dc97row0_col3\" class=\"data row0 col3\" >$4.47</td>\n            </tr>\n            <tr>\n                        <th id=\"T_a16c36aa_9c00_11eb_9b5a_8c859005dc97level0_row1\" class=\"row_heading level0 row1\" >Male</th>\n                        <td id=\"T_a16c36aa_9c00_11eb_9b5a_8c859005dc97row1_col0\" class=\"data row1 col0\" >652</td>\n                        <td id=\"T_a16c36aa_9c00_11eb_9b5a_8c859005dc97row1_col1\" class=\"data row1 col1\" >$3.02</td>\n                        <td id=\"T_a16c36aa_9c00_11eb_9b5a_8c859005dc97row1_col2\" class=\"data row1 col2\" >$1,967.64</td>\n                        <td id=\"T_a16c36aa_9c00_11eb_9b5a_8c859005dc97row1_col3\" class=\"data row1 col3\" >$4.07</td>\n            </tr>\n            <tr>\n                        <th id=\"T_a16c36aa_9c00_11eb_9b5a_8c859005dc97level0_row2\" class=\"row_heading level0 row2\" >Other / Non-Disclosed</th>\n                        <td id=\"T_a16c36aa_9c00_11eb_9b5a_8c859005dc97row2_col0\" class=\"data row2 col0\" >15</td>\n                        <td id=\"T_a16c36aa_9c00_11eb_9b5a_8c859005dc97row2_col1\" class=\"data row2 col1\" >$3.35</td>\n                        <td id=\"T_a16c36aa_9c00_11eb_9b5a_8c859005dc97row2_col2\" class=\"data row2 col2\" >$50.19</td>\n                        <td id=\"T_a16c36aa_9c00_11eb_9b5a_8c859005dc97row2_col3\" class=\"data row2 col3\" >$4.56</td>\n            </tr>\n    </tbody></table>"
     },
     "metadata": {},
     "execution_count": 9
    }
   ],
   "source": [
    "purchase_count = gender_df[\"Purchase ID\"].count()\n",
    "avg_price = gender_df[\"Price\"].mean()\n",
    "avg_total = gender_df[\"Price\"].sum()\n",
    "avg_total_per_person = avg_total/gender_count\n",
    "\n",
    "purchasing_df = pd.DataFrame(\n",
    "{\n",
    "    \"Purchase Count\" : purchase_count,\n",
    "    \"Average Purchase Price\" : avg_price,\n",
    "    \"Total Purchase Value\" : avg_total,\n",
    "    \"Avg Total Purchase per Person\" : avg_total_per_person,    \n",
    "})\n",
    "\n",
    "format_mapping = {\"Average Purchase Price\":\"${:,.2f}\",\"Total Purchase Value\":\"${:,.2f}\",\"Avg Total Purchase per Person\":\"${:,.2f}\"}\n",
    "purchasing_df.style.format(format_mapping)"
   ]
  },
  {
   "cell_type": "markdown",
   "metadata": {},
   "source": [
    "## Age Demographics"
   ]
  },
  {
   "cell_type": "markdown",
   "metadata": {},
   "source": [
    "* Establish bins for ages\n",
    "\n",
    "\n",
    "* Categorize the existing players using the age bins. Hint: use pd.cut()\n",
    "\n",
    "\n",
    "* Calculate the numbers and percentages by age group\n",
    "\n",
    "\n",
    "* Create a summary data frame to hold the results\n",
    "\n",
    "\n",
    "* Optional: round the percentage column to two decimal points\n",
    "\n",
    "\n",
    "* Display Age Demographics Table\n"
   ]
  },
  {
   "cell_type": "code",
   "execution_count": 10,
   "metadata": {},
   "outputs": [
    {
     "output_type": "execute_result",
     "data": {
      "text/plain": [
       "<pandas.io.formats.style.Styler at 0x7fa2490396a0>"
      ],
      "text/html": "<style  type=\"text/css\" >\n</style><table id=\"T_d1ea9b96_9c00_11eb_9b5a_8c859005dc97\" ><thead>    <tr>        <th class=\"blank level0\" ></th>        <th class=\"col_heading level0 col0\" >Total Count</th>        <th class=\"col_heading level0 col1\" >Percentage of Players</th>    </tr>    <tr>        <th class=\"index_name level0\" >Age Group</th>        <th class=\"blank\" ></th>        <th class=\"blank\" ></th>    </tr></thead><tbody>\n                <tr>\n                        <th id=\"T_d1ea9b96_9c00_11eb_9b5a_8c859005dc97level0_row0\" class=\"row_heading level0 row0\" ><10</th>\n                        <td id=\"T_d1ea9b96_9c00_11eb_9b5a_8c859005dc97row0_col0\" class=\"data row0 col0\" >17</td>\n                        <td id=\"T_d1ea9b96_9c00_11eb_9b5a_8c859005dc97row0_col1\" class=\"data row0 col1\" >2.95%</td>\n            </tr>\n            <tr>\n                        <th id=\"T_d1ea9b96_9c00_11eb_9b5a_8c859005dc97level0_row1\" class=\"row_heading level0 row1\" >10-14</th>\n                        <td id=\"T_d1ea9b96_9c00_11eb_9b5a_8c859005dc97row1_col0\" class=\"data row1 col0\" >22</td>\n                        <td id=\"T_d1ea9b96_9c00_11eb_9b5a_8c859005dc97row1_col1\" class=\"data row1 col1\" >3.82%</td>\n            </tr>\n            <tr>\n                        <th id=\"T_d1ea9b96_9c00_11eb_9b5a_8c859005dc97level0_row2\" class=\"row_heading level0 row2\" >15-19</th>\n                        <td id=\"T_d1ea9b96_9c00_11eb_9b5a_8c859005dc97row2_col0\" class=\"data row2 col0\" >107</td>\n                        <td id=\"T_d1ea9b96_9c00_11eb_9b5a_8c859005dc97row2_col1\" class=\"data row2 col1\" >18.58%</td>\n            </tr>\n            <tr>\n                        <th id=\"T_d1ea9b96_9c00_11eb_9b5a_8c859005dc97level0_row3\" class=\"row_heading level0 row3\" >20-24</th>\n                        <td id=\"T_d1ea9b96_9c00_11eb_9b5a_8c859005dc97row3_col0\" class=\"data row3 col0\" >258</td>\n                        <td id=\"T_d1ea9b96_9c00_11eb_9b5a_8c859005dc97row3_col1\" class=\"data row3 col1\" >44.79%</td>\n            </tr>\n            <tr>\n                        <th id=\"T_d1ea9b96_9c00_11eb_9b5a_8c859005dc97level0_row4\" class=\"row_heading level0 row4\" >25-29</th>\n                        <td id=\"T_d1ea9b96_9c00_11eb_9b5a_8c859005dc97row4_col0\" class=\"data row4 col0\" >77</td>\n                        <td id=\"T_d1ea9b96_9c00_11eb_9b5a_8c859005dc97row4_col1\" class=\"data row4 col1\" >13.37%</td>\n            </tr>\n            <tr>\n                        <th id=\"T_d1ea9b96_9c00_11eb_9b5a_8c859005dc97level0_row5\" class=\"row_heading level0 row5\" >30-34</th>\n                        <td id=\"T_d1ea9b96_9c00_11eb_9b5a_8c859005dc97row5_col0\" class=\"data row5 col0\" >52</td>\n                        <td id=\"T_d1ea9b96_9c00_11eb_9b5a_8c859005dc97row5_col1\" class=\"data row5 col1\" >9.03%</td>\n            </tr>\n            <tr>\n                        <th id=\"T_d1ea9b96_9c00_11eb_9b5a_8c859005dc97level0_row6\" class=\"row_heading level0 row6\" >35-39</th>\n                        <td id=\"T_d1ea9b96_9c00_11eb_9b5a_8c859005dc97row6_col0\" class=\"data row6 col0\" >31</td>\n                        <td id=\"T_d1ea9b96_9c00_11eb_9b5a_8c859005dc97row6_col1\" class=\"data row6 col1\" >5.38%</td>\n            </tr>\n            <tr>\n                        <th id=\"T_d1ea9b96_9c00_11eb_9b5a_8c859005dc97level0_row7\" class=\"row_heading level0 row7\" >40+</th>\n                        <td id=\"T_d1ea9b96_9c00_11eb_9b5a_8c859005dc97row7_col0\" class=\"data row7 col0\" >12</td>\n                        <td id=\"T_d1ea9b96_9c00_11eb_9b5a_8c859005dc97row7_col1\" class=\"data row7 col1\" >2.08%</td>\n            </tr>\n    </tbody></table>"
     },
     "metadata": {},
     "execution_count": 10
    }
   ],
   "source": [
    "# Create bins in which to place values based upon ages of player\n",
    "bins = [0,9.9,14.9,19.9,24.9,29.9,34.9,39.9,100]\n",
    "\n",
    "# Create labels for each bin\n",
    "labels = [\"<10\",\"10-14\",\"15-19\",\"20-24\",\"25-29\",\"30-34\",\"35-39\",\"40+\"]\n",
    "\n",
    "purchase_data[\"Age Group\"] = pd.cut(purchase_data[\"Age\"],bins,labels=labels)\n",
    "purchase_data.head()\n",
    "\n",
    "age_df = purchase_data.groupby(\"Age Group\")\n",
    "age_df.count()\n",
    "\n",
    "age_count = age_df.nunique()[\"SN\"]\n",
    "age_percentage = age_count/player*100\n",
    "\n",
    "age_demographic = pd.DataFrame(\n",
    "{\n",
    "    \"Total Count\" : age_count,\n",
    "    \"Percentage of Players\" : age_percentage,\n",
    "})\n",
    "\n",
    "format_mapping = {\"Percentage of Players\":\"{:,.2f}%\"}\n",
    "age_demographic.style.format(format_mapping)\n"
   ]
  },
  {
   "cell_type": "markdown",
   "metadata": {},
   "source": [
    "## Purchasing Analysis (Age)"
   ]
  },
  {
   "cell_type": "markdown",
   "metadata": {},
   "source": [
    "* Bin the purchase_data data frame by age\n",
    "\n",
    "\n",
    "* Run basic calculations to obtain purchase count, avg. purchase price, avg. purchase total per person etc. in the table below\n",
    "\n",
    "\n",
    "* Create a summary data frame to hold the results\n",
    "\n",
    "\n",
    "* Optional: give the displayed data cleaner formatting\n",
    "\n",
    "\n",
    "* Display the summary data frame"
   ]
  },
  {
   "cell_type": "code",
   "execution_count": 11,
   "metadata": {},
   "outputs": [
    {
     "output_type": "execute_result",
     "data": {
      "text/plain": [
       "<pandas.io.formats.style.Styler at 0x7fa24908db50>"
      ],
      "text/html": "<style  type=\"text/css\" >\n</style><table id=\"T_fa6e332a_9c00_11eb_9b5a_8c859005dc97\" ><thead>    <tr>        <th class=\"blank level0\" ></th>        <th class=\"col_heading level0 col0\" >Purchase Count</th>        <th class=\"col_heading level0 col1\" >Average Purchase Price</th>        <th class=\"col_heading level0 col2\" >Total Purchase Value</th>        <th class=\"col_heading level0 col3\" >Avg Total Purchase per Person</th>    </tr>    <tr>        <th class=\"index_name level0\" >Age Group</th>        <th class=\"blank\" ></th>        <th class=\"blank\" ></th>        <th class=\"blank\" ></th>        <th class=\"blank\" ></th>    </tr></thead><tbody>\n                <tr>\n                        <th id=\"T_fa6e332a_9c00_11eb_9b5a_8c859005dc97level0_row0\" class=\"row_heading level0 row0\" ><10</th>\n                        <td id=\"T_fa6e332a_9c00_11eb_9b5a_8c859005dc97row0_col0\" class=\"data row0 col0\" >23</td>\n                        <td id=\"T_fa6e332a_9c00_11eb_9b5a_8c859005dc97row0_col1\" class=\"data row0 col1\" >$3.35</td>\n                        <td id=\"T_fa6e332a_9c00_11eb_9b5a_8c859005dc97row0_col2\" class=\"data row0 col2\" >$77.13</td>\n                        <td id=\"T_fa6e332a_9c00_11eb_9b5a_8c859005dc97row0_col3\" class=\"data row0 col3\" >$4.54</td>\n            </tr>\n            <tr>\n                        <th id=\"T_fa6e332a_9c00_11eb_9b5a_8c859005dc97level0_row1\" class=\"row_heading level0 row1\" >10-14</th>\n                        <td id=\"T_fa6e332a_9c00_11eb_9b5a_8c859005dc97row1_col0\" class=\"data row1 col0\" >28</td>\n                        <td id=\"T_fa6e332a_9c00_11eb_9b5a_8c859005dc97row1_col1\" class=\"data row1 col1\" >$2.96</td>\n                        <td id=\"T_fa6e332a_9c00_11eb_9b5a_8c859005dc97row1_col2\" class=\"data row1 col2\" >$82.78</td>\n                        <td id=\"T_fa6e332a_9c00_11eb_9b5a_8c859005dc97row1_col3\" class=\"data row1 col3\" >$3.76</td>\n            </tr>\n            <tr>\n                        <th id=\"T_fa6e332a_9c00_11eb_9b5a_8c859005dc97level0_row2\" class=\"row_heading level0 row2\" >15-19</th>\n                        <td id=\"T_fa6e332a_9c00_11eb_9b5a_8c859005dc97row2_col0\" class=\"data row2 col0\" >136</td>\n                        <td id=\"T_fa6e332a_9c00_11eb_9b5a_8c859005dc97row2_col1\" class=\"data row2 col1\" >$3.04</td>\n                        <td id=\"T_fa6e332a_9c00_11eb_9b5a_8c859005dc97row2_col2\" class=\"data row2 col2\" >$412.89</td>\n                        <td id=\"T_fa6e332a_9c00_11eb_9b5a_8c859005dc97row2_col3\" class=\"data row2 col3\" >$3.86</td>\n            </tr>\n            <tr>\n                        <th id=\"T_fa6e332a_9c00_11eb_9b5a_8c859005dc97level0_row3\" class=\"row_heading level0 row3\" >20-24</th>\n                        <td id=\"T_fa6e332a_9c00_11eb_9b5a_8c859005dc97row3_col0\" class=\"data row3 col0\" >365</td>\n                        <td id=\"T_fa6e332a_9c00_11eb_9b5a_8c859005dc97row3_col1\" class=\"data row3 col1\" >$3.05</td>\n                        <td id=\"T_fa6e332a_9c00_11eb_9b5a_8c859005dc97row3_col2\" class=\"data row3 col2\" >$1,114.06</td>\n                        <td id=\"T_fa6e332a_9c00_11eb_9b5a_8c859005dc97row3_col3\" class=\"data row3 col3\" >$4.32</td>\n            </tr>\n            <tr>\n                        <th id=\"T_fa6e332a_9c00_11eb_9b5a_8c859005dc97level0_row4\" class=\"row_heading level0 row4\" >25-29</th>\n                        <td id=\"T_fa6e332a_9c00_11eb_9b5a_8c859005dc97row4_col0\" class=\"data row4 col0\" >101</td>\n                        <td id=\"T_fa6e332a_9c00_11eb_9b5a_8c859005dc97row4_col1\" class=\"data row4 col1\" >$2.90</td>\n                        <td id=\"T_fa6e332a_9c00_11eb_9b5a_8c859005dc97row4_col2\" class=\"data row4 col2\" >$293.00</td>\n                        <td id=\"T_fa6e332a_9c00_11eb_9b5a_8c859005dc97row4_col3\" class=\"data row4 col3\" >$3.81</td>\n            </tr>\n            <tr>\n                        <th id=\"T_fa6e332a_9c00_11eb_9b5a_8c859005dc97level0_row5\" class=\"row_heading level0 row5\" >30-34</th>\n                        <td id=\"T_fa6e332a_9c00_11eb_9b5a_8c859005dc97row5_col0\" class=\"data row5 col0\" >73</td>\n                        <td id=\"T_fa6e332a_9c00_11eb_9b5a_8c859005dc97row5_col1\" class=\"data row5 col1\" >$2.93</td>\n                        <td id=\"T_fa6e332a_9c00_11eb_9b5a_8c859005dc97row5_col2\" class=\"data row5 col2\" >$214.00</td>\n                        <td id=\"T_fa6e332a_9c00_11eb_9b5a_8c859005dc97row5_col3\" class=\"data row5 col3\" >$4.12</td>\n            </tr>\n            <tr>\n                        <th id=\"T_fa6e332a_9c00_11eb_9b5a_8c859005dc97level0_row6\" class=\"row_heading level0 row6\" >35-39</th>\n                        <td id=\"T_fa6e332a_9c00_11eb_9b5a_8c859005dc97row6_col0\" class=\"data row6 col0\" >41</td>\n                        <td id=\"T_fa6e332a_9c00_11eb_9b5a_8c859005dc97row6_col1\" class=\"data row6 col1\" >$3.60</td>\n                        <td id=\"T_fa6e332a_9c00_11eb_9b5a_8c859005dc97row6_col2\" class=\"data row6 col2\" >$147.67</td>\n                        <td id=\"T_fa6e332a_9c00_11eb_9b5a_8c859005dc97row6_col3\" class=\"data row6 col3\" >$4.76</td>\n            </tr>\n            <tr>\n                        <th id=\"T_fa6e332a_9c00_11eb_9b5a_8c859005dc97level0_row7\" class=\"row_heading level0 row7\" >40+</th>\n                        <td id=\"T_fa6e332a_9c00_11eb_9b5a_8c859005dc97row7_col0\" class=\"data row7 col0\" >13</td>\n                        <td id=\"T_fa6e332a_9c00_11eb_9b5a_8c859005dc97row7_col1\" class=\"data row7 col1\" >$2.94</td>\n                        <td id=\"T_fa6e332a_9c00_11eb_9b5a_8c859005dc97row7_col2\" class=\"data row7 col2\" >$38.24</td>\n                        <td id=\"T_fa6e332a_9c00_11eb_9b5a_8c859005dc97row7_col3\" class=\"data row7 col3\" >$3.19</td>\n            </tr>\n    </tbody></table>"
     },
     "metadata": {},
     "execution_count": 11
    }
   ],
   "source": [
    "purchase_count_age = age_df[\"Purchase ID\"].count()\n",
    "avg_price_age = age_df[\"Price\"].mean()\n",
    "avg_total_age = age_df[\"Price\"].sum()\n",
    "avg_total_per_person_age = avg_total_age/age_count\n",
    "\n",
    "purchasing_df_age = pd.DataFrame(\n",
    "{\n",
    "    \"Purchase Count\" : purchase_count_age,\n",
    "    \"Average Purchase Price\" : avg_price_age,\n",
    "    \"Total Purchase Value\" : avg_total_age,\n",
    "    \"Avg Total Purchase per Person\" : avg_total_per_person_age,    \n",
    "})\n",
    "\n",
    "format_mapping = {\"Average Purchase Price\":\"${:,.2f}\",\"Total Purchase Value\":\"${:,.2f}\",\"Avg Total Purchase per Person\":\"${:,.2f}\"}\n",
    "purchasing_df_age.style.format(format_mapping)"
   ]
  },
  {
   "cell_type": "markdown",
   "metadata": {},
   "source": [
    "## Top Spenders"
   ]
  },
  {
   "cell_type": "markdown",
   "metadata": {},
   "source": [
    "* Run basic calculations to obtain the results in the table below\n",
    "\n",
    "\n",
    "* Create a summary data frame to hold the results\n",
    "\n",
    "\n",
    "* Sort the total purchase value column in descending order\n",
    "\n",
    "\n",
    "* Optional: give the displayed data cleaner formatting\n",
    "\n",
    "\n",
    "* Display a preview of the summary data frame\n",
    "\n"
   ]
  },
  {
   "cell_type": "code",
   "execution_count": 19,
   "metadata": {},
   "outputs": [
    {
     "output_type": "execute_result",
     "data": {
      "text/plain": [
       "<pandas.io.formats.style.Styler at 0x7fa249d32a00>"
      ],
      "text/html": "<style  type=\"text/css\" >\n</style><table id=\"T_fc6953b6_9c01_11eb_9b5a_8c859005dc97\" ><thead>    <tr>        <th class=\"blank level0\" ></th>        <th class=\"col_heading level0 col0\" >Purchase Count</th>        <th class=\"col_heading level0 col1\" >Average Purchase Price</th>        <th class=\"col_heading level0 col2\" >Total Purchase Value</th>    </tr>    <tr>        <th class=\"index_name level0\" >SN</th>        <th class=\"blank\" ></th>        <th class=\"blank\" ></th>        <th class=\"blank\" ></th>    </tr></thead><tbody>\n                <tr>\n                        <th id=\"T_fc6953b6_9c01_11eb_9b5a_8c859005dc97level0_row0\" class=\"row_heading level0 row0\" >Lisosia93</th>\n                        <td id=\"T_fc6953b6_9c01_11eb_9b5a_8c859005dc97row0_col0\" class=\"data row0 col0\" >5</td>\n                        <td id=\"T_fc6953b6_9c01_11eb_9b5a_8c859005dc97row0_col1\" class=\"data row0 col1\" >$3.79</td>\n                        <td id=\"T_fc6953b6_9c01_11eb_9b5a_8c859005dc97row0_col2\" class=\"data row0 col2\" >$18.96</td>\n            </tr>\n            <tr>\n                        <th id=\"T_fc6953b6_9c01_11eb_9b5a_8c859005dc97level0_row1\" class=\"row_heading level0 row1\" >Idastidru52</th>\n                        <td id=\"T_fc6953b6_9c01_11eb_9b5a_8c859005dc97row1_col0\" class=\"data row1 col0\" >4</td>\n                        <td id=\"T_fc6953b6_9c01_11eb_9b5a_8c859005dc97row1_col1\" class=\"data row1 col1\" >$3.86</td>\n                        <td id=\"T_fc6953b6_9c01_11eb_9b5a_8c859005dc97row1_col2\" class=\"data row1 col2\" >$15.45</td>\n            </tr>\n            <tr>\n                        <th id=\"T_fc6953b6_9c01_11eb_9b5a_8c859005dc97level0_row2\" class=\"row_heading level0 row2\" >Chamjask73</th>\n                        <td id=\"T_fc6953b6_9c01_11eb_9b5a_8c859005dc97row2_col0\" class=\"data row2 col0\" >3</td>\n                        <td id=\"T_fc6953b6_9c01_11eb_9b5a_8c859005dc97row2_col1\" class=\"data row2 col1\" >$4.61</td>\n                        <td id=\"T_fc6953b6_9c01_11eb_9b5a_8c859005dc97row2_col2\" class=\"data row2 col2\" >$13.83</td>\n            </tr>\n            <tr>\n                        <th id=\"T_fc6953b6_9c01_11eb_9b5a_8c859005dc97level0_row3\" class=\"row_heading level0 row3\" >Iral74</th>\n                        <td id=\"T_fc6953b6_9c01_11eb_9b5a_8c859005dc97row3_col0\" class=\"data row3 col0\" >4</td>\n                        <td id=\"T_fc6953b6_9c01_11eb_9b5a_8c859005dc97row3_col1\" class=\"data row3 col1\" >$3.40</td>\n                        <td id=\"T_fc6953b6_9c01_11eb_9b5a_8c859005dc97row3_col2\" class=\"data row3 col2\" >$13.62</td>\n            </tr>\n            <tr>\n                        <th id=\"T_fc6953b6_9c01_11eb_9b5a_8c859005dc97level0_row4\" class=\"row_heading level0 row4\" >Iskadarya95</th>\n                        <td id=\"T_fc6953b6_9c01_11eb_9b5a_8c859005dc97row4_col0\" class=\"data row4 col0\" >3</td>\n                        <td id=\"T_fc6953b6_9c01_11eb_9b5a_8c859005dc97row4_col1\" class=\"data row4 col1\" >$4.37</td>\n                        <td id=\"T_fc6953b6_9c01_11eb_9b5a_8c859005dc97row4_col2\" class=\"data row4 col2\" >$13.10</td>\n            </tr>\n    </tbody></table>"
     },
     "metadata": {},
     "execution_count": 19
    }
   ],
   "source": [
    "spender_df = purchase_data.groupby(\"SN\")\n",
    "spender_df.count()\n",
    "\n",
    "purchase_count_sd = spender_df[\"Purchase ID\"].count()\n",
    "avg_price_sd = spender_df[\"Price\"].mean()\n",
    "avg_total_sd = spender_df[\"Price\"].sum()\n",
    "\n",
    "purchasing_df_sd = pd.DataFrame(\n",
    "{\n",
    "    \"Purchase Count\" : purchase_count_sd,\n",
    "    \"Average Purchase Price\" : avg_price_sd,\n",
    "    \"Total Purchase Value\" : avg_total_sd,\n",
    "})\n",
    "\n",
    "format_mapping = {\"Average Purchase Price\":\"${:,.2f}\",\"Total Purchase Value\":\"${:,.2f}\"}\n",
    "top_spender_sort = purchasing_df_sd.sort_values(\"Total Purchase Value\",ascending=False).head()\n",
    "top_spender_sort.style.format(format_mapping)\n"
   ]
  },
  {
   "cell_type": "markdown",
   "metadata": {},
   "source": [
    "## Most Popular Items"
   ]
  },
  {
   "cell_type": "markdown",
   "metadata": {},
   "source": [
    "* Retrieve the Item ID, Item Name, and Item Price columns\n",
    "\n",
    "\n",
    "* Group by Item ID and Item Name. Perform calculations to obtain purchase count, average item price, and total purchase value\n",
    "\n",
    "\n",
    "* Create a summary data frame to hold the results\n",
    "\n",
    "\n",
    "* Sort the purchase count column in descending order\n",
    "\n",
    "\n",
    "* Optional: give the displayed data cleaner formatting\n",
    "\n",
    "\n",
    "* Display a preview of the summary data frame\n",
    "\n"
   ]
  },
  {
   "cell_type": "code",
   "execution_count": 20,
   "metadata": {},
   "outputs": [
    {
     "output_type": "execute_result",
     "data": {
      "text/plain": [
       "<pandas.io.formats.style.Styler at 0x7fa2498470d0>"
      ],
      "text/html": "<style  type=\"text/css\" >\n</style><table id=\"T_ff6151a4_9c01_11eb_9b5a_8c859005dc97\" ><thead>    <tr>        <th class=\"blank\" ></th>        <th class=\"blank level0\" ></th>        <th class=\"col_heading level0 col0\" >Purchase Count</th>        <th class=\"col_heading level0 col1\" >Item Price</th>        <th class=\"col_heading level0 col2\" >Total Purchase Value</th>    </tr>    <tr>        <th class=\"index_name level0\" >Item ID</th>        <th class=\"index_name level1\" >Item Name</th>        <th class=\"blank\" ></th>        <th class=\"blank\" ></th>        <th class=\"blank\" ></th>    </tr></thead><tbody>\n                <tr>\n                        <th id=\"T_ff6151a4_9c01_11eb_9b5a_8c859005dc97level0_row0\" class=\"row_heading level0 row0\" >92</th>\n                        <th id=\"T_ff6151a4_9c01_11eb_9b5a_8c859005dc97level1_row0\" class=\"row_heading level1 row0\" >Final Critic</th>\n                        <td id=\"T_ff6151a4_9c01_11eb_9b5a_8c859005dc97row0_col0\" class=\"data row0 col0\" >13</td>\n                        <td id=\"T_ff6151a4_9c01_11eb_9b5a_8c859005dc97row0_col1\" class=\"data row0 col1\" >$4.61</td>\n                        <td id=\"T_ff6151a4_9c01_11eb_9b5a_8c859005dc97row0_col2\" class=\"data row0 col2\" >$59.99</td>\n            </tr>\n            <tr>\n                        <th id=\"T_ff6151a4_9c01_11eb_9b5a_8c859005dc97level0_row1\" class=\"row_heading level0 row1\" >178</th>\n                        <th id=\"T_ff6151a4_9c01_11eb_9b5a_8c859005dc97level1_row1\" class=\"row_heading level1 row1\" >Oathbreaker, Last Hope of the Breaking Storm</th>\n                        <td id=\"T_ff6151a4_9c01_11eb_9b5a_8c859005dc97row1_col0\" class=\"data row1 col0\" >12</td>\n                        <td id=\"T_ff6151a4_9c01_11eb_9b5a_8c859005dc97row1_col1\" class=\"data row1 col1\" >$4.23</td>\n                        <td id=\"T_ff6151a4_9c01_11eb_9b5a_8c859005dc97row1_col2\" class=\"data row1 col2\" >$50.76</td>\n            </tr>\n            <tr>\n                        <th id=\"T_ff6151a4_9c01_11eb_9b5a_8c859005dc97level0_row2\" class=\"row_heading level0 row2\" >145</th>\n                        <th id=\"T_ff6151a4_9c01_11eb_9b5a_8c859005dc97level1_row2\" class=\"row_heading level1 row2\" >Fiery Glass Crusader</th>\n                        <td id=\"T_ff6151a4_9c01_11eb_9b5a_8c859005dc97row2_col0\" class=\"data row2 col0\" >9</td>\n                        <td id=\"T_ff6151a4_9c01_11eb_9b5a_8c859005dc97row2_col1\" class=\"data row2 col1\" >$4.58</td>\n                        <td id=\"T_ff6151a4_9c01_11eb_9b5a_8c859005dc97row2_col2\" class=\"data row2 col2\" >$41.22</td>\n            </tr>\n            <tr>\n                        <th id=\"T_ff6151a4_9c01_11eb_9b5a_8c859005dc97level0_row3\" class=\"row_heading level0 row3\" >132</th>\n                        <th id=\"T_ff6151a4_9c01_11eb_9b5a_8c859005dc97level1_row3\" class=\"row_heading level1 row3\" >Persuasion</th>\n                        <td id=\"T_ff6151a4_9c01_11eb_9b5a_8c859005dc97row3_col0\" class=\"data row3 col0\" >9</td>\n                        <td id=\"T_ff6151a4_9c01_11eb_9b5a_8c859005dc97row3_col1\" class=\"data row3 col1\" >$3.22</td>\n                        <td id=\"T_ff6151a4_9c01_11eb_9b5a_8c859005dc97row3_col2\" class=\"data row3 col2\" >$28.99</td>\n            </tr>\n            <tr>\n                        <th id=\"T_ff6151a4_9c01_11eb_9b5a_8c859005dc97level0_row4\" class=\"row_heading level0 row4\" >108</th>\n                        <th id=\"T_ff6151a4_9c01_11eb_9b5a_8c859005dc97level1_row4\" class=\"row_heading level1 row4\" >Extraction, Quickblade Of Trembling Hands</th>\n                        <td id=\"T_ff6151a4_9c01_11eb_9b5a_8c859005dc97row4_col0\" class=\"data row4 col0\" >9</td>\n                        <td id=\"T_ff6151a4_9c01_11eb_9b5a_8c859005dc97row4_col1\" class=\"data row4 col1\" >$3.53</td>\n                        <td id=\"T_ff6151a4_9c01_11eb_9b5a_8c859005dc97row4_col2\" class=\"data row4 col2\" >$31.77</td>\n            </tr>\n    </tbody></table>"
     },
     "metadata": {},
     "execution_count": 20
    }
   ],
   "source": [
    "# Retrieve the Item ID, Item Name, Item price\n",
    "new_df = purchase_data[[\"Item ID\", \"Item Name\", \"Price\"]]\n",
    "item_df = new_df.groupby([\"Item ID\", \"Item Name\"])\n",
    "item_df.count()\n",
    "\n",
    "purchase_count_item = item_df[\"Item ID\"].count()\n",
    "price_item = item_df[\"Price\"].mean()\n",
    "total_item = item_df[\"Price\"].sum()\n",
    "\n",
    "purchasing_df_item = pd.DataFrame(\n",
    "{\n",
    "    \"Purchase Count\" : purchase_count_item,\n",
    "    \"Item Price\" : price_item,\n",
    "    \"Total Purchase Value\" : total_item,\n",
    "})\n",
    "\n",
    "format_mapping = {\"Item Price\":\"${:,.2f}\",\"Total Purchase Value\":\"${:,.2f}\"}\n",
    "popular_item_sort = purchasing_df_item.sort_values(\"Purchase Count\",ascending=False).head()\n",
    "popular_item_sort.style.format(format_mapping)\n"
   ]
  },
  {
   "cell_type": "markdown",
   "metadata": {},
   "source": [
    "## Most Profitable Items"
   ]
  },
  {
   "cell_type": "markdown",
   "metadata": {},
   "source": [
    "* Sort the above table by total purchase value in descending order\n",
    "\n",
    "\n",
    "* Optional: give the displayed data cleaner formatting\n",
    "\n",
    "\n",
    "* Display a preview of the data frame\n",
    "\n"
   ]
  },
  {
   "cell_type": "code",
   "execution_count": 21,
   "metadata": {
    "scrolled": true
   },
   "outputs": [
    {
     "output_type": "execute_result",
     "data": {
      "text/plain": [
       "<pandas.io.formats.style.Styler at 0x7fa24a39e4c0>"
      ],
      "text/html": "<style  type=\"text/css\" >\n</style><table id=\"T_012e4262_9c02_11eb_9b5a_8c859005dc97\" ><thead>    <tr>        <th class=\"blank\" ></th>        <th class=\"blank level0\" ></th>        <th class=\"col_heading level0 col0\" >Purchase Count</th>        <th class=\"col_heading level0 col1\" >Item Price</th>        <th class=\"col_heading level0 col2\" >Total Purchase Value</th>    </tr>    <tr>        <th class=\"index_name level0\" >Item ID</th>        <th class=\"index_name level1\" >Item Name</th>        <th class=\"blank\" ></th>        <th class=\"blank\" ></th>        <th class=\"blank\" ></th>    </tr></thead><tbody>\n                <tr>\n                        <th id=\"T_012e4262_9c02_11eb_9b5a_8c859005dc97level0_row0\" class=\"row_heading level0 row0\" >92</th>\n                        <th id=\"T_012e4262_9c02_11eb_9b5a_8c859005dc97level1_row0\" class=\"row_heading level1 row0\" >Final Critic</th>\n                        <td id=\"T_012e4262_9c02_11eb_9b5a_8c859005dc97row0_col0\" class=\"data row0 col0\" >13</td>\n                        <td id=\"T_012e4262_9c02_11eb_9b5a_8c859005dc97row0_col1\" class=\"data row0 col1\" >$4.61</td>\n                        <td id=\"T_012e4262_9c02_11eb_9b5a_8c859005dc97row0_col2\" class=\"data row0 col2\" >$59.99</td>\n            </tr>\n            <tr>\n                        <th id=\"T_012e4262_9c02_11eb_9b5a_8c859005dc97level0_row1\" class=\"row_heading level0 row1\" >178</th>\n                        <th id=\"T_012e4262_9c02_11eb_9b5a_8c859005dc97level1_row1\" class=\"row_heading level1 row1\" >Oathbreaker, Last Hope of the Breaking Storm</th>\n                        <td id=\"T_012e4262_9c02_11eb_9b5a_8c859005dc97row1_col0\" class=\"data row1 col0\" >12</td>\n                        <td id=\"T_012e4262_9c02_11eb_9b5a_8c859005dc97row1_col1\" class=\"data row1 col1\" >$4.23</td>\n                        <td id=\"T_012e4262_9c02_11eb_9b5a_8c859005dc97row1_col2\" class=\"data row1 col2\" >$50.76</td>\n            </tr>\n            <tr>\n                        <th id=\"T_012e4262_9c02_11eb_9b5a_8c859005dc97level0_row2\" class=\"row_heading level0 row2\" >82</th>\n                        <th id=\"T_012e4262_9c02_11eb_9b5a_8c859005dc97level1_row2\" class=\"row_heading level1 row2\" >Nirvana</th>\n                        <td id=\"T_012e4262_9c02_11eb_9b5a_8c859005dc97row2_col0\" class=\"data row2 col0\" >9</td>\n                        <td id=\"T_012e4262_9c02_11eb_9b5a_8c859005dc97row2_col1\" class=\"data row2 col1\" >$4.90</td>\n                        <td id=\"T_012e4262_9c02_11eb_9b5a_8c859005dc97row2_col2\" class=\"data row2 col2\" >$44.10</td>\n            </tr>\n            <tr>\n                        <th id=\"T_012e4262_9c02_11eb_9b5a_8c859005dc97level0_row3\" class=\"row_heading level0 row3\" >145</th>\n                        <th id=\"T_012e4262_9c02_11eb_9b5a_8c859005dc97level1_row3\" class=\"row_heading level1 row3\" >Fiery Glass Crusader</th>\n                        <td id=\"T_012e4262_9c02_11eb_9b5a_8c859005dc97row3_col0\" class=\"data row3 col0\" >9</td>\n                        <td id=\"T_012e4262_9c02_11eb_9b5a_8c859005dc97row3_col1\" class=\"data row3 col1\" >$4.58</td>\n                        <td id=\"T_012e4262_9c02_11eb_9b5a_8c859005dc97row3_col2\" class=\"data row3 col2\" >$41.22</td>\n            </tr>\n            <tr>\n                        <th id=\"T_012e4262_9c02_11eb_9b5a_8c859005dc97level0_row4\" class=\"row_heading level0 row4\" >103</th>\n                        <th id=\"T_012e4262_9c02_11eb_9b5a_8c859005dc97level1_row4\" class=\"row_heading level1 row4\" >Singed Scalpel</th>\n                        <td id=\"T_012e4262_9c02_11eb_9b5a_8c859005dc97row4_col0\" class=\"data row4 col0\" >8</td>\n                        <td id=\"T_012e4262_9c02_11eb_9b5a_8c859005dc97row4_col1\" class=\"data row4 col1\" >$4.35</td>\n                        <td id=\"T_012e4262_9c02_11eb_9b5a_8c859005dc97row4_col2\" class=\"data row4 col2\" >$34.80</td>\n            </tr>\n    </tbody></table>"
     },
     "metadata": {},
     "execution_count": 21
    }
   ],
   "source": [
    "format_mapping = {\"Item Price\":\"${:,.2f}\",\"Total Purchase Value\":\"${:,.2f}\"}\n",
    "popular_item_sort = purchasing_df_item.sort_values(\"Total Purchase Value\",ascending=False).head()\n",
    "popular_item_sort.style.format(format_mapping)"
   ]
  },
  {
   "cell_type": "code",
   "execution_count": null,
   "metadata": {},
   "outputs": [],
   "source": []
  }
 ],
 "metadata": {
  "anaconda-cloud": {},
  "kernel_info": {
   "name": "python3"
  },
  "kernelspec": {
   "display_name": "Python 3",
   "language": "python",
   "name": "python3"
  },
  "language_info": {
   "codemirror_mode": {
    "name": "ipython",
    "version": 3
   },
   "file_extension": ".py",
   "mimetype": "text/x-python",
   "name": "python",
   "nbconvert_exporter": "python",
   "pygments_lexer": "ipython3",
   "version": "3.8.5"
  },
  "latex_envs": {
   "LaTeX_envs_menu_present": true,
   "autoclose": false,
   "autocomplete": true,
   "bibliofile": "biblio.bib",
   "cite_by": "apalike",
   "current_citInitial": 1,
   "eqLabelWithNumbers": true,
   "eqNumInitial": 1,
   "hotkeys": {
    "equation": "Ctrl-E",
    "itemize": "Ctrl-I"
   },
   "labels_anchors": false,
   "latex_user_defs": false,
   "report_style_numbering": false,
   "user_envs_cfg": false
  },
  "nteract": {
   "version": "0.2.0"
  }
 },
 "nbformat": 4,
 "nbformat_minor": 2
}